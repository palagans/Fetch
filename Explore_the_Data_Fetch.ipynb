{
 "cells": [
  {
   "cell_type": "markdown",
   "metadata": {},
   "source": [
    "Load and Explore the Data"
   ]
  },
  {
   "cell_type": "code",
   "execution_count": 1,
   "metadata": {},
   "outputs": [
    {
     "name": "stdout",
     "output_type": "stream",
     "text": [
      "          CATEGORY_1              CATEGORY_2                   CATEGORY_3  \\\n",
      "0  Health & Wellness           Sexual Health  Conductivity Gels & Lotions   \n",
      "1             Snacks           Puffed Snacks         Cheese Curls & Puffs   \n",
      "2  Health & Wellness               Hair Care        Hair Care Accessories   \n",
      "3  Health & Wellness               Oral Care                   Toothpaste   \n",
      "4  Health & Wellness  Medicines & Treatments               Essential Oils   \n",
      "\n",
      "  CATEGORY_4                                       MANUFACTURER  \\\n",
      "0        NaN                                                NaN   \n",
      "1        NaN                                                NaN   \n",
      "2        NaN                           PLACEHOLDER MANUFACTURER   \n",
      "3        NaN                                  COLGATE-PALMOLIVE   \n",
      "4        NaN  MAPLE HOLISTICS AND HONEYDEW PRODUCTS INTERCHA...   \n",
      "\n",
      "             BRAND       BARCODE  \n",
      "0              NaN  7.964944e+11  \n",
      "1              NaN  2.327801e+10  \n",
      "2          ELECSOP  4.618178e+11  \n",
      "3          COLGATE  3.500047e+10  \n",
      "4  MAPLE HOLISTICS  8.068109e+11  \n",
      "<class 'pandas.core.frame.DataFrame'>\n",
      "RangeIndex: 845552 entries, 0 to 845551\n",
      "Data columns (total 7 columns):\n",
      " #   Column        Non-Null Count   Dtype  \n",
      "---  ------        --------------   -----  \n",
      " 0   CATEGORY_1    845441 non-null  object \n",
      " 1   CATEGORY_2    844128 non-null  object \n",
      " 2   CATEGORY_3    784986 non-null  object \n",
      " 3   CATEGORY_4    67459 non-null   object \n",
      " 4   MANUFACTURER  619078 non-null  object \n",
      " 5   BRAND         619080 non-null  object \n",
      " 6   BARCODE       841527 non-null  float64\n",
      "dtypes: float64(1), object(6)\n",
      "memory usage: 45.2+ MB\n",
      "None\n"
     ]
    }
   ],
   "source": [
    "import pandas as pd\n",
    "import matplotlib.pyplot as plt\n",
    "import seaborn as sns\n",
    "\n",
    "# Load CSV file\n",
    "df1 = pd.read_csv(\"PRODUCTS_TAKEHOME.csv\", )\n",
    "\n",
    "# Display the first few rows\n",
    "print(df1.head())\n",
    "\n",
    "# Get basic info about data\n",
    "print(df1.info())\n",
    "\n",
    "# Check for missing values\n",
    "##print(df1.isnull().sum())"
   ]
  },
  {
   "cell_type": "markdown",
   "metadata": {},
   "source": [
    "Identify Data Quality Issues"
   ]
  },
  {
   "cell_type": "code",
   "execution_count": 2,
   "metadata": {},
   "outputs": [
    {
     "name": "stdout",
     "output_type": "stream",
     "text": [
      "Duplicate rows: 215\n"
     ]
    }
   ],
   "source": [
    "# Check for duplicates\n",
    "print(f\"Duplicate rows: {df1.duplicated().sum()}\")\n",
    "\n",
    "# Remove duplicates\n",
    "df1_cleaned = df1.drop_duplicates()\n"
   ]
  },
  {
   "cell_type": "markdown",
   "metadata": {},
   "source": [
    "Inconsistent formatting"
   ]
  },
  {
   "cell_type": "code",
   "execution_count": 15,
   "metadata": {},
   "outputs": [
    {
     "name": "stdout",
     "output_type": "stream",
     "text": [
      "Unique values in CATEGORY_1: ['Health & Wellness' 'Snacks' 'Beverages' 'Pantry' 'Alcohol'\n",
      " 'Apparel & Accessories' 'Restaurant' 'Needs Review' 'Dairy'\n",
      " 'Home & Garden' nan 'Household Supplies' 'Meat & Seafood' 'Deli & Bakery'\n",
      " 'Sporting Goods' 'Produce' 'Office & School' 'Frozen'\n",
      " 'Arts & Entertainment' 'Animals & Pet Supplies' 'Electronics' 'Beauty'\n",
      " 'Toys & Games' 'Mature' 'Vehicles & Parts' 'Baby & Toddler'\n",
      " 'Luggage & Bags' 'Media']\n",
      "Unique values in CATEGORY_2: ['Sexual Health' 'Puffed Snacks' 'Hair Care' 'Oral Care'\n",
      " 'Medicines & Treatments' 'Deodorant & Antiperspirant' 'Snack Bars' nan\n",
      " 'Bath & Body' 'Nuts & Seeds' 'Candy' 'Cookies' 'Variety Snack Packs'\n",
      " 'Hair Removal' 'Medical Supplies & Equipment' 'Chips' 'Snack Cakes'\n",
      " 'Skin Care' 'Dessert Toppings' 'Eye Care' 'Fruit & Vegetable Snacks'\n",
      " 'Snack Mixes' 'Crackers' 'Jerky & Dried Meat'\n",
      " 'Topical Muscle & Joint Relief Treatments' 'Foot Care' 'First Aid'\n",
      " 'Ear Care' 'Menstrual Care' 'Pretzels' 'Trail Mix' 'Dips & Salsa'\n",
      " 'Adult Incontinence' 'Water' 'Cereal, Granola, & Toaster Pastries' 'Wine'\n",
      " 'Pudding & Gelatin' 'Clothing' 'Carbonated Soft Drinks'\n",
      " 'Energy & Endurance' 'Beverages' 'Cheese' 'Kitchen & Dining'\n",
      " 'Energy Drinks' 'Packaged Vegetables' 'Household Cleaning Supplies'\n",
      " 'Business & Home Security'\n",
      " 'Hard Seltzers, Sodas, Waters, Lemonades & Teas' 'Beer' 'Fresh Seafood'\n",
      " 'Packaged Meals & Sides' 'Prepared Meals' 'Jewelry' 'Exercise & Fitness'\n",
      " 'Pasta & Noodles' 'Packaged Fruit & Applesauce' 'Fresh Fruits'\n",
      " 'Name Plates' 'Sauces & Marinades' 'Frozen Desserts' 'Spirits'\n",
      " 'Cooking & Baking' 'Athletics' 'Clothing Accessories' 'Plants'\n",
      " 'Musical Instruments' 'Cocktail Prep' 'Beverage Syrups'\n",
      " 'Frozen Pizza & Pizza Snacks' 'Nut Butters & Jam' 'Coffee'\n",
      " 'Fruit & Vegetable Juices' 'Pet Carriers, Crates & Accessories' 'Audio'\n",
      " 'Hardware' 'Fish Supplies' 'Makeup' 'Decor' 'Toys' 'À La Carte Item'\n",
      " 'Office Carts' 'Frozen Meat' 'Pet Grooming Supplies' 'Fresh Vegetables'\n",
      " 'Furniture' 'Tobacco Products' 'Soup & Broth' 'Dairy Alternatives'\n",
      " 'Vehicle Storage & Cargo' 'Packaged Seafood' 'Office & Chair Mats'\n",
      " 'Pickled Goods' 'Outdoor Recreation' 'Indoor Games' 'Arts & Crafts'\n",
      " 'Frozen Appetizers' 'Food Storage' 'Tea'\n",
      " 'Vehicle Maintenance, Care & Decor' 'Games'\n",
      " 'Arcade Equipment & Accessories' 'Baby Toys & Activity Equipment'\n",
      " 'Hard Ciders' 'Luggage Accessories' 'Lawn & Garden' 'Books' 'Condiments'\n",
      " 'Lighting' 'Ice' 'Presentation Supplies' 'Handbag, Wallet & Accessories'\n",
      " 'Emergency Preparedness' 'Music & Recordings' 'Party & Celebration'\n",
      " 'Shoes' 'Pool, Spa & Accessories' 'Baby & Toddler Feeding'\n",
      " 'Malt Beverages' 'Household Appliances' 'Shipping Supplies'\n",
      " 'Frozen Sides' 'Baby Transport']\n",
      "Unique values in CATEGORY_3: ['Conductivity Gels & Lotions' 'Cheese Curls & Puffs'\n",
      " 'Hair Care Accessories' 'Toothpaste' 'Essential Oils'\n",
      " 'Vitamins & Herbal Supplements' \"Men's Deodorant & Antiperspirant\"\n",
      " 'Granola Bars' nan 'Skin Treatments' 'Hand & Body Lotions' 'Hazelnuts'\n",
      " 'Shower Caps' 'Hair Tools' 'Candy Variety Pack' 'Chocolate Candy'\n",
      " 'Oral Care Accessories' 'Hand Sanitizer Wipes' 'Shaving Gel & Cream'\n",
      " 'Crisps' 'Pies & Tarts Snack Cakes' 'Skin Care Masks & Peels'\n",
      " 'Lip Balms & Treatments' 'Anti-Aging Skin Care Kits' 'Shampoo'\n",
      " 'Ice Cream Sauces & Syrups' 'Reading Glasses' 'Popcorn' 'Dried Fruit'\n",
      " 'Sunscreen' 'Hair Styling Products' 'Almonds' 'Facial Cleansers'\n",
      " 'Confection Candy' 'Wheat Crackers' 'Hand Sanitizer' 'Potato Chips'\n",
      " 'Performance & Protein Bars' 'Jerky & Bites' 'Facial Pore Strips'\n",
      " 'Braces & Wraps' 'Body Wash' 'Body Powder' 'Bath & Body Gift Sets'\n",
      " 'Chestnuts' 'Denture Care' 'Brownie Snack Cakes' 'Bath Sponges & Loofahs'\n",
      " 'Snack Seeds' 'Foot Care Devices and Grooming Aids'\n",
      " 'Allergy & Sinus Medicines & Treatments' 'Facial Lotion & Moisturizer'\n",
      " 'Razors' 'Toothbrushes' 'Hot & Cold Compress' 'Floss'\n",
      " 'Sleeping & Snoring' 'Covered Nuts' 'Fruit & Nut Bars' 'Mints'\n",
      " 'Teeth Whitening' 'Fruit Snacks' 'Donut Snack Cakes' 'Bandages & Gauze'\n",
      " 'Insoles & Orthotics' 'Hair Color' 'Ear Plugs' 'Menstrual Care Underwear'\n",
      " 'Hair Treatments' 'Corn Chips' 'Pretzel Crisps' 'Eye Creams'\n",
      " 'Tattoo Care' 'Tortilla Chips' 'Cereal Bars & Breakfast Biscuits'\n",
      " 'Oral Pain Relief' 'Mixed Nuts' 'Medical Masks & Gloves'\n",
      " 'Liquid Hand Soap' 'Contact Lens Solution' 'Pistachios' 'Bath Additives'\n",
      " 'Hair Removal Cream' 'Conditioner' 'Hummus'\n",
      " 'Gender Neutral Deodorant & Antiperspirant'\n",
      " 'Topical & Muscular Medicines & Treatments' 'Menstrual Care Liners'\n",
      " 'Digestive Health Medicines & Treatments' 'Pork Skins' 'Eye Drops'\n",
      " 'Ranch Dip' 'Anti-Fungal Foot Care' 'Acne Treatments & Kits' 'Gum'\n",
      " 'Hair Removal Accessories' 'Bar Soap' 'Fruit Rolls & Twists'\n",
      " 'Rice Treats' 'Peanuts' 'Bath Brushes' 'Flavored Pretzels'\n",
      " 'Ointments & Liquids' 'Danishes & Puffs Snack Cakes'\n",
      " 'Adult Incontinence Underwear' 'Dried Vegetables' 'Body Oil'\n",
      " 'Callus Cushions & Paddings' 'After Shave' 'Cheese Crackers'\n",
      " 'Smoking Cessation' 'Sparkling Water' 'Menstrual Care Cups'\n",
      " 'Cough & Cold Medicines & Treatments' 'Traditional Pretzels'\n",
      " 'Facial Cleansing Kits' 'Adult Incontinence Liners' 'Bagel & Pita Chips'\n",
      " 'Mouthwash' 'Menstrual Care Treatments & Cleansers'\n",
      " 'Shampoo & Conditioner Combinations'\n",
      " 'Pain & Fever Medicines & Treatments' 'Breakfast Cereal'\n",
      " 'Dried Meat Sticks' 'Canned & Whipped Cream'\n",
      " \"Women's Deodorant & Antiperspirant\" 'Cashews' 'Dip Mixes' 'Salsa'\n",
      " 'Cakes & Truffles Snack Cakes' 'Other Crackers' 'Hair Loss Prevention'\n",
      " 'Ready-to-Eat Gelatin' 'Tampons' 'Shirts & Tops' 'Cola'\n",
      " 'Meal Replacement Bars' 'Adult Incontinence Furniture Pads'\n",
      " 'Adult Incontinence Bladder Supports' 'Menstrual Care Pads' 'Other Dips'\n",
      " 'Animal Crackers' 'Shampoo & Conditioner Co-Pack' 'Sandwich Crackers'\n",
      " 'Ear Drops' 'Thermometers & Accesories' 'Dry Shampoo'\n",
      " 'Adult Incontinence Pads' 'Other Nuts' 'Corn & Rice Cakes'\n",
      " 'Ready-to-Eat Pudding' 'Waxing & Strips' 'Chews & Gels'\n",
      " 'Covered Pretzels' 'Contraceptives' 'Asthma Treatments' 'First Aid Kits'\n",
      " 'Soda' 'Petroleum Jelly' 'Graham Crackers' 'Guacamole' 'Cotton Swabs'\n",
      " 'Whole Grain Chips' 'Lice Treatment' 'Saltine Crackers'\n",
      " 'Muffin Snack Cakes' 'Skin Toners & Astringents'\n",
      " 'Shredded & Grated Cheese' 'Activewear' 'Shots'\n",
      " 'Food & Beverage Carriers' 'French Onion Dip' 'Wart Removers'\n",
      " 'Skin Insect Repellent' 'Cheese Dip' 'Bean Dip' 'Butter Crackers'\n",
      " 'Ice Cream Cones' 'Sliced Cheese' 'Breath Strips & Sprays'\n",
      " 'Powdered Hand Soap' 'Sparkling Wines' 'Mushrooms' 'Jock Itch'\n",
      " 'Household Cleaning Products' 'Hard Seltzer & Still Water' 'Lager'\n",
      " 'Cheese Snacks' 'Filled Pretzels' 'Eyeglass Cleaning Kits'\n",
      " 'Cheese Blocks' 'Fresh Fish' 'Microwavable Sides' 'Prepared Snack Pack'\n",
      " 'Sleepwear & Loungewear' 'Red Wine' 'White Wine' 'Sweaters & Sweatshirts'\n",
      " 'Watches & Accessories' 'Vibration Exercise Machines'\n",
      " 'Microwavable Entrees' 'Club Soda' 'Contraceptive Cases'\n",
      " 'Prescription Lenses' 'Non-Alcoholic Beer' 'Rosé' 'Dry Pasta'\n",
      " 'Ready-to-Eat Dessert Cups' 'Kitchen Appliances'\n",
      " 'Prescription Medications' 'Packaged Pineapple' 'Fresh Grapes'\n",
      " 'Soy & Fish Sauce' 'Frozen Non-Dairy Dessert' 'Applesauce'\n",
      " 'Packaged Mixed Fruit & Cocktail' 'Packaged Pears' 'Fresh Citrus Fruits'\n",
      " 'Frozen Dairy Desserts' 'Vodka' 'Baking Ingredients' 'Gymnastics'\n",
      " 'Dessert Dips' 'Hats' 'Seeds & Bulbs' 'Packaged Peaches' 'Ale'\n",
      " 'Non-Alchoholic Cocktail Mixers' 'Underwear & Socks' 'Scarves & Shawls'\n",
      " 'Purified Water' 'Stovetop & Oven Entrees' 'Teriyaki Sauce'\n",
      " 'Frozen Pizza Rolls' 'Tableware' 'Jellies, Jams, & Preserves'\n",
      " 'Ready-To-Drink Coffee' 'Coconut Water' 'Granola' 'Bottoms'\n",
      " 'Audio Players & Recorders' 'Aquariums & Accessories' 'Lip Makeup'\n",
      " 'Stopwatches' 'Cream Cheese & Spreads' 'Pasta Sauce'\n",
      " 'Baby & Toddler Clothing' 'Outerwear' 'Soccer' 'Hardware Accessories'\n",
      " 'Peanut Butter' 'Grape Juice' 'Clocks' 'Cranberry Juice'\n",
      " 'Sparkling Fruit Juice' 'Fresh Shellfish' 'Play Vehicles'\n",
      " 'Snacks & Sides' 'AV Carts' 'Toy Gift Baskets' 'Barware' 'Frozen Seafood'\n",
      " 'Fresh Cauliflower' 'Fresh Peppers' 'Toaster Pastries' 'Yoga & Pilates'\n",
      " 'Broth, Bouillon, & Stock' 'Non-Dairy Cheese' 'Coffee Pods'\n",
      " 'Packaged Salmon' 'Sushi' 'Chair Mats' 'Packaged Tuna' 'Vegetable Medley'\n",
      " 'Pickles' 'Oatmeal & Hot Cereal' 'Dolls, Playsets & Toy Figures'\n",
      " 'Camping & Hiking' 'Bowling' 'Sugars & Sweeteners' 'Spices & Seasonings'\n",
      " 'Art & Crafting Materials' 'Fresh Cherries' 'Flameless Candles' 'Cereal'\n",
      " 'Frozen Other Appetizers' 'Food Storage Containers' 'Iced Teas'\n",
      " 'Vehicle Fluids' 'Prepared Cocktails' 'Cookware & Bakeware'\n",
      " 'Slushies & Icees' 'Clock Parts' 'Milk' 'Kitchen Tools & Utensils' 'Corn'\n",
      " 'Slot Machines' 'Throwing Darts' 'Prescription Glasses Frames'\n",
      " 'Baby Activity Toys' 'Weighted Clothing' 'Sunglasses' 'Outdoor Living'\n",
      " 'Fuel Containers & Tanks' 'Beans' 'Lemonade & Limeade' 'Tonic Water'\n",
      " 'Chair & Sofa Cushions' 'Seasonal & Holiday Decorations'\n",
      " 'Beer Variety Packs' 'Decorative Trays' 'Wind-Up Toys' 'Cocktail Sauces'\n",
      " 'Fresh Asparagus' 'Orange Juice' 'Flood & Spot Lights' 'Chalkboards'\n",
      " 'Hot Sauce' 'Emergency Tools & Kits' 'Snow Removal' 'Maternity Clothing'\n",
      " 'Oils & Sprays' 'Crumbled Cheese' 'Packaged Cherries' 'Fresh Melons'\n",
      " 'Tomato Juice' 'Sours & Fruit Beer' 'Carrots' 'Gift Giving' 'Potatoes'\n",
      " 'Baby Food Prep & Accessories' 'Decorative Plaques' 'Lemon & Lime Juice'\n",
      " 'Novelty Signs' 'Peas' 'Hard Sodas' 'Climate Control Appliances'\n",
      " 'Cycling' 'Non-Dairy Cream' 'Headwear & Accessories' 'Hoisin'\n",
      " 'Moving & Shipping Boxes' 'Peanut Butter Alternatives'\n",
      " 'Frozen French Fries' 'Baby Carriers']\n",
      "Unique values in CATEGORY_4: [nan 'Hair Brushes & Combs' \"Women's Shaving Gel & Cream\" 'Lip Balms'\n",
      " 'Already Popped Popcorn' \"Men's Razors\" 'Snoring Aids'\n",
      " 'Popcorn Kernels & Popcorn Seasonings' 'Sleep Aids' 'Hair Straighteners'\n",
      " 'Medicated Lip Treatments'\n",
      " 'Nausea & Motion Sickness Medicines & Treatments' \"Women's Razors\"\n",
      " 'Flavored Sparkling Water' 'Immune Support'\n",
      " 'Constipation Relief Medicines & Treatments'\n",
      " 'Cold & Flu Medicines & Treatments'\n",
      " 'Anti Diarrheal Medicines & Treatments' 'Cough Drops & Lozenges'\n",
      " 'Water Pills' 'Microwave Popcorn'\n",
      " 'Cough & Chest Congestion Medicines & Treatments'\n",
      " 'Heartburn & Antacids Medicines & Treatments' 'Regular Cola' 'Diet Cola'\n",
      " 'Sore Throat Medicines & Treatments' 'Gas Relief Medicines & Treatments'\n",
      " 'Diet Soda' 'Vapors & Rubs' \"Men's Shaving Gel & Cream\" 'Skin Toners'\n",
      " 'Lactose Intolerance Medicines & Treatments' 'Water Bottles'\n",
      " 'Unflavored Sparkling Water' 'Hair Dryers' 'Orange Soda'\n",
      " 'Gender Neutral Razors' 'Ginger Ale' 'Natural Sliced Cheese'\n",
      " 'Sparkling Wine' 'Oven & Grill Cleaners' 'American Lager'\n",
      " 'Individually Packaged Cheese Snacks' 'Astringents' 'Imported Lager'\n",
      " 'Zero Sugar Cola' 'Lemon-Lime Soda' 'Microwavable Non-Potato Sides'\n",
      " 'Red Blend' 'Pinot Gris & Pinot Grigio' 'Pinot Noir'\n",
      " 'Pre-Cut Cheese Snacks' 'Rosé & Blends'\n",
      " 'Gender Neutral Shaving Gel & Cream' 'White Moscato' 'Refrigerators'\n",
      " 'Chardonnay' 'Sherbet' 'Syrah/Shiraz' 'Ice Cream'\n",
      " 'Pie Crust & Pie Filling' 'Drink Sleeves' 'Root Beer' 'White Zinfandel'\n",
      " 'Stout Ale' 'Margarita Mix' 'Prosecco' 'Underwear' 'Riesling'\n",
      " 'Purified Unflavored Water' 'Stovetop Macaroni & Cheese' 'Other Whites'\n",
      " 'Other Non-Alchoholic Cocktail Mixers' 'Drinkware' 'Cabernet Sauvignon'\n",
      " 'Other Red Wines' 'Lip Gloss' 'Cheese Spreads' 'Red Pasta Sauce'\n",
      " 'Baby & Toddler Tops' 'Tops' 'Purified Flavored Water'\n",
      " 'Frozen Dairy Novelties' 'Tool Storage & Organization' 'Wall Clocks'\n",
      " 'Grape Soda' 'Bottle Caps' 'Frozen Fish Fillets' 'Socks' 'White Blend'\n",
      " 'Yoga & Pilates Mats' 'Coolers' 'Merlot' 'Specialty & Cream Sodas'\n",
      " 'Frozen Shellfish' 'Corn Syrup' 'White Merlot' 'Breadcrumbs & Coatings'\n",
      " 'Craft Paint, Ink & Glaze' 'Sauvignon Blanc'\n",
      " 'Baby & Toddler Socks & Tights' 'Meal Kits' 'Zinfandel' 'Champagne'\n",
      " 'Cookware' 'Coconut Milk' 'Pancake & Waffle Syrup' 'Kitchen Organizers'\n",
      " 'Textiles' 'Ramen & Instant Noodles' 'Honey' 'Seasoning Blends'\n",
      " 'Holiday Ornaments' 'Salt & Pepper Shakers' 'Malbec'\n",
      " 'Garlic & Onion Spices & Seasonings' 'Chili Sauce'\n",
      " 'Ice Scrapers & Snow Brushes' 'Other Cooking & Baking Oils' 'Wasabi'\n",
      " 'Dinnerware' 'Regular Soda' 'Beverage Warmers' 'Humidifiers'\n",
      " 'Replacement Drink Lids' 'Baby & Toddler Outfits' 'Variety Pack Sodas'\n",
      " 'Spices']\n",
      "Unique values in MANUFACTURER: [nan 'PLACEHOLDER MANUFACTURER' 'COLGATE-PALMOLIVE' ... 'VIDETTE INC'\n",
      " 'SCRUB-IT' 'OUTDOOR PRODUCT INNOVATIONS, INC.']\n",
      "Unique values in BRAND: [nan 'ELECSOP' 'COLGATE' ... 'SHULEMIN' 'RHINO BLINDS' 'GATEWAY']\n"
     ]
    }
   ],
   "source": [
    "for col in df1.select_dtypes(include=['object']).columns:\n",
    "    print(f\"Unique values in {col}: {df1[col].unique()}\")"
   ]
  },
  {
   "cell_type": "markdown",
   "metadata": {},
   "source": [
    "Using Visualization to detect anamolies"
   ]
  },
  {
   "cell_type": "code",
   "execution_count": 16,
   "metadata": {},
   "outputs": [
    {
     "data": {
      "image/png": "[encoded data removed]",
      "text/plain": [
       "<Figure size 1000x500 with 1 Axes>"
      ]
     },
     "metadata": {},
     "output_type": "display_data"
    }
   ],
   "source": [
    "# Check for outliers in numerical columns\n",
    "plt.figure(figsize=(10,5))\n",
    "sns.boxplot(data=df1.select_dtypes(include=['number']))\n",
    "plt.show()"
   ]
  },
  {
   "cell_type": "markdown",
   "metadata": {},
   "source": [
    "Identifying fields that are bit difficult to understand and check if column names are clear and self-explanatory also look for encoded values or abbreviations that might need decoding."
   ]
  },
  {
   "cell_type": "code",
   "execution_count": 17,
   "metadata": {},
   "outputs": [
    {
     "name": "stdout",
     "output_type": "stream",
     "text": [
      "Index(['CATEGORY_1', 'CATEGORY_2', 'CATEGORY_3', 'CATEGORY_4', 'MANUFACTURER',\n",
      "       'BRAND', 'BARCODE'],\n",
      "      dtype='object')\n",
      "BARCODE - Unique values: 841342\n"
     ]
    }
   ],
   "source": [
    "print(df1.columns)\n",
    "\n",
    "# Identify numerical columns that should be categorical\n",
    "for col in df1.select_dtypes(include=['number']).columns:\n",
    "    print(f\"{col} - Unique values: {df1[col].nunique()}\")"
   ]
  },
  {
   "cell_type": "markdown",
   "metadata": {},
   "source": [
    "The output suggests the following observations:\n",
    "\n",
    "Column Names Clarity:\n",
    "\n",
    "The columns CATEGORY_1, CATEGORY_2, CATEGORY_3, and CATEGORY_4 likely represent hierarchical classifications of products. However, without documentation, their exact meaning is unclear.\n",
    "MANUFACTURER and BRAND are self-explanatory, indicating the company producing and marketing the product.\n",
    "BARCODE represents a unique identifier for products, commonly used in inventory management.\n",
    "\n",
    "Potential Issues with Data Understanding:\n",
    "\n",
    "The hierarchical category structure (CATEGORY_1 to CATEGORY_4) may need further clarification—do they represent subcategories, regions, or product types?\n",
    "BARCODE has 841,342 unique values, meaning almost every product has a distinct barcode. If duplicates exist, it could indicate data issues.\n",
    "Encoded values: If any column contains numerical codes instead of descriptive text, a reference table may be required to interpret them."
   ]
  }
 ],
 "metadata": {
  "kernelspec": {
   "display_name": "Python 3",
   "language": "python",
   "name": "python3"
  },
  "language_info": {
   "codemirror_mode": {
    "name": "ipython",
    "version": 3
   },
   "file_extension": ".py",
   "mimetype": "text/x-python",
   "name": "python",
   "nbconvert_exporter": "python",
   "pygments_lexer": "ipython3",
   "version": "3.11.9"
  }
 },
 "nbformat": 4,
 "nbformat_minor": 2
}
